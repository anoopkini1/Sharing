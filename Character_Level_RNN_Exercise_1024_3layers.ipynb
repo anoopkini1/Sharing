{
 "cells": [
  {
   "cell_type": "markdown",
   "metadata": {},
   "source": [
    "# Character-Level LSTM in PyTorch\n",
    "\n",
    "In this notebook, I'll construct a character-level LSTM with PyTorch. The network will train character by character on some text, then generate new text character by character. As an example, I will train on Anna Karenina. **This model will be able to generate new text based on the text from the book!**\n",
    "\n",
    "This network is based off of Andrej Karpathy's [post on RNNs](http://karpathy.github.io/2015/05/21/rnn-effectiveness/) and [implementation in Torch](https://github.com/karpathy/char-rnn). Below is the general architecture of the character-wise RNN.\n",
    "\n",
    "<img src=\"assets/charseq.jpeg\" width=\"500\">"
   ]
  },
  {
   "cell_type": "markdown",
   "metadata": {},
   "source": [
    "First let's load in our required resources for data loading and model creation."
   ]
  },
  {
   "cell_type": "code",
   "execution_count": 1,
   "metadata": {},
   "outputs": [],
   "source": [
    "import numpy as np\n",
    "import torch\n",
    "from torch import nn\n",
    "import torch.nn.functional as F"
   ]
  },
  {
   "cell_type": "markdown",
   "metadata": {},
   "source": [
    "## Load in Data\n",
    "\n",
    "Then, we'll load the Anna Karenina text file and convert it into integers for our network to use. "
   ]
  },
  {
   "cell_type": "code",
   "execution_count": 2,
   "metadata": {},
   "outputs": [],
   "source": [
    "# open text file and read in data as `text`\n",
    "with open('data/anna.txt', 'r') as f:\n",
    "    text = f.read()"
   ]
  },
  {
   "cell_type": "markdown",
   "metadata": {},
   "source": [
    "Let's check out the first 100 characters, make sure everything is peachy. According to the [American Book Review](http://americanbookreview.org/100bestlines.asp), this is the 6th best first line of a book ever."
   ]
  },
  {
   "cell_type": "code",
   "execution_count": 3,
   "metadata": {},
   "outputs": [
    {
     "data": {
      "text/plain": [
       "'Chapter 1\\n\\n\\nHappy families are all alike; every unhappy family is unhappy in its own\\nway.\\n\\nEverythin'"
      ]
     },
     "execution_count": 3,
     "metadata": {},
     "output_type": "execute_result"
    }
   ],
   "source": [
    "text[:100]"
   ]
  },
  {
   "cell_type": "markdown",
   "metadata": {},
   "source": [
    "### Tokenization\n",
    "\n",
    "In the cells, below, I'm creating a couple **dictionaries** to convert the characters to and from integers. Encoding the characters as integers makes it easier to use as input in the network."
   ]
  },
  {
   "cell_type": "code",
   "execution_count": 4,
   "metadata": {},
   "outputs": [],
   "source": [
    "# encode the text and map each character to an integer and vice versa\n",
    "\n",
    "# we create two dictionaries:\n",
    "# 1. int2char, which maps integers to characters\n",
    "# 2. char2int, which maps characters to unique integers\n",
    "chars = tuple(set(text))                 # len(chars) = 83, includes punctuation etc unlike other notebook  \n",
    "int2char = dict(enumerate(chars))\n",
    "char2int = {ch: ii for ii, ch in int2char.items()}\n",
    "\n",
    "# encode the text\n",
    "encoded = np.array([char2int[ch] for ch in text])"
   ]
  },
  {
   "cell_type": "markdown",
   "metadata": {},
   "source": [
    "And we can see those same characters from above, encoded as integers."
   ]
  },
  {
   "cell_type": "code",
   "execution_count": 5,
   "metadata": {},
   "outputs": [
    {
     "data": {
      "text/plain": [
       "array([48,  7, 62,  3,  6, 66,  4, 80, 79, 29, 29, 29,  5, 62,  3,  3, 36,\n",
       "       80, 17, 62, 59, 81, 21, 81, 66,  1, 80, 62,  4, 66, 80, 62, 21, 21,\n",
       "       80, 62, 21, 81, 49, 66, 57, 80, 66, 67, 66,  4, 36, 80, 30, 58,  7,\n",
       "       62,  3,  3, 36, 80, 17, 62, 59, 81, 21, 36, 80, 81,  1, 80, 30, 58,\n",
       "        7, 62,  3,  3, 36, 80, 81, 58, 80, 81,  6,  1, 80, 77, 34, 58, 29,\n",
       "       34, 62, 36, 60, 29, 29, 14, 67, 66,  4, 36,  6,  7, 81, 58])"
      ]
     },
     "execution_count": 5,
     "metadata": {},
     "output_type": "execute_result"
    }
   ],
   "source": [
    "encoded[:100]"
   ]
  },
  {
   "cell_type": "markdown",
   "metadata": {},
   "source": [
    "## Pre-processing the data\n",
    "\n",
    "As you can see in our char-RNN image above, our LSTM expects an input that is **one-hot encoded** meaning that each character is converted into an integer (via our created dictionary) and *then* converted into a column vector where only it's corresponding integer index will have the value of 1 and the rest of the vector will be filled with 0's. Since we're one-hot encoding the data, let's make a function to do that!\n"
   ]
  },
  {
   "cell_type": "code",
   "execution_count": 6,
   "metadata": {},
   "outputs": [],
   "source": [
    "def one_hot_encode(arr, n_labels):\n",
    "    \n",
    "    # Initialize the the encoded array\n",
    "    one_hot = np.zeros((np.multiply(*arr.shape), n_labels), dtype=np.float32)\n",
    "    \n",
    "    # Fill the appropriate elements with ones\n",
    "    one_hot[np.arange(one_hot.shape[0]), arr.flatten()] = 1.\n",
    "    \n",
    "    # Finally reshape it to get back to the original array\n",
    "    one_hot = one_hot.reshape((*arr.shape, n_labels))\n",
    "    # https://stackoverflow.com/questions/47564495/what-does-numpy-ndarray-shape-do\n",
    "    \n",
    "    return one_hot"
   ]
  },
  {
   "cell_type": "code",
   "execution_count": 7,
   "metadata": {},
   "outputs": [
    {
     "name": "stdout",
     "output_type": "stream",
     "text": [
      "[[[ 0.  0.  0.  1.  0.  0.  0.  0.]\n",
      "  [ 0.  0.  0.  0.  0.  1.  0.  0.]\n",
      "  [ 0.  1.  0.  0.  0.  0.  0.  0.]]]\n"
     ]
    }
   ],
   "source": [
    "# check that the function works as expected\n",
    "test_seq = np.array([[3, 5, 1]])\n",
    "one_hot = one_hot_encode(test_seq, 8)\n",
    "\n",
    "print(one_hot)"
   ]
  },
  {
   "cell_type": "code",
   "execution_count": 8,
   "metadata": {},
   "outputs": [
    {
     "name": "stdout",
     "output_type": "stream",
     "text": [
      "[[[ 0.  0.  0.  0.  0.  0.  0.  0.  1.  0.  0.  0.  0.  0.  0.]\n",
      "  [ 0.  0.  0.  0.  0.  0.  0.  0.  0.  0.  1.  0.  0.  0.  0.]\n",
      "  [ 0.  0.  0.  0.  0.  0.  0.  0.  0.  0.  0.  0.  1.  0.  0.]\n",
      "  [ 0.  0.  0.  0.  0.  0.  0.  0.  0.  0.  0.  0.  0.  0.  1.]\n",
      "  [ 1.  0.  0.  0.  0.  0.  0.  0.  0.  0.  0.  0.  0.  0.  0.]]]\n"
     ]
    }
   ],
   "source": [
    "test_seq = np.array([[8, 10, 12, 14, 0]])\n",
    "one_hot = one_hot_encode(test_seq, 15)\n",
    "\n",
    "print(one_hot)"
   ]
  },
  {
   "cell_type": "markdown",
   "metadata": {},
   "source": [
    "## Making training mini-batches\n",
    "\n",
    "\n",
    "To train on this data, we also want to create mini-batches for training. Remember that we want our batches to be multiple sequences of some desired number of sequence steps. Considering a simple example, our batches would look like this:\n",
    "\n",
    "<img src=\"assets/sequence_batching@1x.png\" width=500px>\n",
    "\n",
    "\n",
    "<br>\n",
    "\n",
    "In this example, we'll take the encoded characters (passed in as the `arr` parameter) and split them into multiple sequences, given by `batch_size`. Each of our sequences will be `seq_length` long.\n",
    "\n",
    "### Creating Batches\n",
    "\n",
    "**1. The first thing we need to do is discard some of the text so we only have completely full mini-batches. **\n",
    "\n",
    "Each batch contains $N \\times M$ characters, where $N$ is the batch size (the number of sequences in a batch) and $M$ is the seq_length or number of time steps in a sequence (i.e. As I understand its the length of each sequence). Then, to get the total number of batches (i.e.mini-batches, yes that's the terminology used in solutions), $K$, that we can make from the array `arr`, you divide the length of `arr` by the number of characters per batch. Once you know the number of batches, you can get the total number of characters to keep from `arr`, $N * M * K$.\n",
    "\n",
    "**2. After that, we need to split `arr` into $N$ batches. ** \n",
    "\n",
    "You can do this using `arr.reshape(size)` where `size` is a tuple containing the dimensions sizes of the reshaped array. We know we want $N$ sequences in a batch, so let's make that the size of the first dimension. For the second dimension, you can use `-1` as a placeholder in the size, it'll fill up the array with the appropriate data for you. After this, you should have an array that is $N \\times (M * K)$.\n",
    "\n",
    "**3. Now that we have this array, we can iterate through it to get our mini-batches. **\n",
    "\n",
    "The idea is each batch is a $N \\times M$ window on the $N \\times (M * K)$ array. For each subsequent batch, the window moves over by `seq_length`. We also want to create both the input and target arrays. Remember that the targets are just the inputs shifted over by one character. The way I like to do this window is use `range` to take steps of size `n_steps` from $0$ to `arr.shape[1]`, the total number of tokens in each sequence. That way, the integers you get from `range` always point to the start of a batch, and each window is `seq_length` wide.\n",
    "\n",
    "> **TODO:** Write the code for creating batches in the function below. The exercises in this notebook _will not be easy_. I've provided a notebook with solutions alongside this notebook. If you get stuck, checkout the solutions. The most important thing is that you don't copy and paste the code into here, **type out the solution code yourself.**"
   ]
  },
  {
   "cell_type": "code",
   "execution_count": 9,
   "metadata": {},
   "outputs": [],
   "source": [
    "def get_batches(arr, batch_size, seq_length):\n",
    "    '''Create a generator that returns batches of size\n",
    "       batch_size x seq_length from arr.\n",
    "       \n",
    "       Arguments\n",
    "       ---------\n",
    "       arr: Array you want to make batches from\n",
    "       batch_size: Batch size, the number of sequences per batch\n",
    "       seq_length: Number of encoded chars in a sequence\n",
    "    '''\n",
    "    \n",
    "    mini_batch_total = batch_size*seq_length\n",
    "    ## TODO: Get the number of batches we can make (no of mini-batches)\n",
    "    n_batches = len(arr)//mini_batch_total\n",
    "    \n",
    "    ## TODO: Keep only enough characters to make full batches\n",
    "    arr = arr[:n_batches * mini_batch_total]\n",
    "    \n",
    "    ## TODO: Reshape into batch_size rows\n",
    "    arr = np.reshape(arr,(batch_size,-1)) #Reference: https://www.w3resource.com/numpy/manipulation/reshape.php\n",
    "    \n",
    "    ## TODO: Iterate over the batches using a window of size seq_length\n",
    "    for n in range(0, arr.shape[1], seq_length):\n",
    "        # The features\n",
    "        x = arr[:,n:n+seq_length]     ##arr[:][n:n+seq_length]\n",
    "        # for debugging related to broadcasting: best is to print array dimensions: print(x.shape)\n",
    "        # The targets, shifted by one\n",
    "        y = np.zeros_like(x)\n",
    "        \n",
    "        # https://www.programiz.com/python-programming/exception-handling\n",
    "        # Think of this as 2 coordinate frames: one the smaller one with x,y and second one is global coordinate\n",
    "        # Note that smaller array always starts with index 0, in that sense it is local frame\n",
    "        try:\n",
    "            y[:, :-1] , y[:, -1] = x[: , 1:], arr[:, n+seq_length]\n",
    "            \n",
    "        except IndexError:\n",
    "            y[:, :-1] , y[:, -1] = x[:, 1:], arr[:, 0]\n",
    "        \n",
    "        \n",
    "        yield x, y"
   ]
  },
  {
   "cell_type": "markdown",
   "metadata": {},
   "source": [
    "### Test Your Implementation\n",
    "\n",
    "Now I'll make some data sets and we can check out what's going on as we batch data. Here, as an example, I'm going to use a batch size of 8 and 50 sequence steps."
   ]
  },
  {
   "cell_type": "code",
   "execution_count": 10,
   "metadata": {},
   "outputs": [],
   "source": [
    "batches = get_batches(encoded, 8, 50)\n",
    "x, y = next(batches)"
   ]
  },
  {
   "cell_type": "code",
   "execution_count": 11,
   "metadata": {},
   "outputs": [
    {
     "name": "stdout",
     "output_type": "stream",
     "text": [
      "x\n",
      " [[48  7 62  3  6 66  4 80 79 29]\n",
      " [ 1 77 58 80  6  7 62  6 80 62]\n",
      " [66 58 76 80 77  4 80 62 80 17]\n",
      " [ 1 80  6  7 66 80 25  7 81 66]\n",
      " [80  1 62 34 80  7 66  4 80  6]\n",
      " [25 30  1  1 81 77 58 80 62 58]\n",
      " [80 28 58 58 62 80  7 62 76 80]\n",
      " [72 15 21 77 58  1 49 36 60 80]]\n",
      "\n",
      "y\n",
      " [[ 7 62  3  6 66  4 80 79 29 29]\n",
      " [77 58 80  6  7 62  6 80 62  6]\n",
      " [58 76 80 77  4 80 62 80 17 77]\n",
      " [80  6  7 66 80 25  7 81 66 17]\n",
      " [ 1 62 34 80  7 66  4 80  6 66]\n",
      " [30  1  1 81 77 58 80 62 58 76]\n",
      " [28 58 58 62 80  7 62 76 80  1]\n",
      " [15 21 77 58  1 49 36 60 80  2]]\n"
     ]
    }
   ],
   "source": [
    "# printing out the first 10 items in a sequence\n",
    "print('x\\n', x[:10, :10])\n",
    "print('\\ny\\n', y[:10, :10])"
   ]
  },
  {
   "cell_type": "code",
   "execution_count": 12,
   "metadata": {},
   "outputs": [
    {
     "data": {
      "text/plain": [
       "(1985223,)"
      ]
     },
     "execution_count": 12,
     "metadata": {},
     "output_type": "execute_result"
    }
   ],
   "source": [
    "# encoded.shape   # (1985223,)\n",
    "# print(y.shape)  # (8, 50)\n",
    "# print(x.shape)  # (8, 50)"
   ]
  },
  {
   "cell_type": "markdown",
   "metadata": {},
   "source": [
    "If you implemented `get_batches` correctly, the above output should look something like \n",
    "```\n",
    "x\n",
    " [[25  8 60 11 45 27 28 73  1  2]\n",
    " [17  7 20 73 45  8 60 45 73 60]\n",
    " [27 20 80 73  7 28 73 60 73 65]\n",
    " [17 73 45  8 27 73 66  8 46 27]\n",
    " [73 17 60 12 73  8 27 28 73 45]\n",
    " [66 64 17 17 46  7 20 73 60 20]\n",
    " [73 76 20 20 60 73  8 60 80 73]\n",
    " [47 35 43  7 20 17 24 50 37 73]]\n",
    "\n",
    "y\n",
    " [[ 8 60 11 45 27 28 73  1  2  2]\n",
    " [ 7 20 73 45  8 60 45 73 60 45]\n",
    " [20 80 73  7 28 73 60 73 65  7]\n",
    " [73 45  8 27 73 66  8 46 27 65]\n",
    " [17 60 12 73  8 27 28 73 45 27]\n",
    " [64 17 17 46  7 20 73 60 20 80]\n",
    " [76 20 20 60 73  8 60 80 73 17]\n",
    " [35 43  7 20 17 24 50 37 73 36]]\n",
    " ```\n",
    " although the exact numbers may be different. Check to make sure the data is shifted over one step for `y`."
   ]
  },
  {
   "cell_type": "markdown",
   "metadata": {},
   "source": [
    "---\n",
    "## Defining the network with PyTorch\n",
    "\n",
    "Below is where you'll define the network.\n",
    "\n",
    "<img src=\"assets/charRNN.png\" width=500px>\n",
    "\n",
    "Next, you'll use PyTorch to define the architecture of the network. We start by defining the layers and operations we want. Then, define a method for the forward pass. You've also been given a method for predicting characters."
   ]
  },
  {
   "cell_type": "markdown",
   "metadata": {},
   "source": [
    "### Model Structure\n",
    "\n",
    "In `__init__` the suggested structure is as follows:\n",
    "* Create and store the necessary dictionaries (this has been done for you)\n",
    "* Define an LSTM layer that takes as params: an input size (the number of characters), a hidden layer size `n_hidden`, a number of layers `n_layers`, a dropout probability `drop_prob`, and a batch_first boolean (True, since we are batching)\n",
    "* Define a dropout layer with `dropout_prob`\n",
    "* Define a fully-connected layer with params: input size `n_hidden` and output size (the number of characters)\n",
    "* Finally, initialize the weights (again, this has been given)\n",
    "\n",
    "Note that some parameters have been named and given in the `__init__` function, and we use them and store them by doing something like `self.drop_prob = drop_prob`."
   ]
  },
  {
   "cell_type": "markdown",
   "metadata": {},
   "source": [
    "---\n",
    "### LSTM Inputs/Outputs\n",
    "\n",
    "You can create a basic [LSTM layer](https://pytorch.org/docs/stable/nn.html#lstm) as follows\n",
    "\n",
    "```python\n",
    "self.lstm = nn.LSTM(input_size, n_hidden, n_layers, \n",
    "                            dropout=drop_prob, batch_first=True)\n",
    "```\n",
    "\n",
    "where `input_size` is the number of characters this cell expects to see as sequential input, and `n_hidden` is the number of units in the hidden layers in the cell. And we can add dropout by adding a dropout parameter with a specified probability; this will automatically add dropout to the inputs or outputs. Finally, in the `forward` function, we can stack up the LSTM cells into layers using `.view`. With this, you pass in a list of cells and it will send the output of one cell into the next cell.\n",
    "\n",
    "We also need to create an initial hidden state of all zeros. This is done like so\n",
    "\n",
    "```python\n",
    "self.init_hidden()\n",
    "```"
   ]
  },
  {
   "cell_type": "code",
   "execution_count": 12,
   "metadata": {},
   "outputs": [
    {
     "name": "stdout",
     "output_type": "stream",
     "text": [
      "Training on GPU!\n"
     ]
    }
   ],
   "source": [
    "# check if GPU is available\n",
    "train_on_gpu = torch.cuda.is_available()\n",
    "if(train_on_gpu):\n",
    "    print('Training on GPU!')\n",
    "else: \n",
    "    print('No GPU available, training on CPU; consider making n_epochs very small.')"
   ]
  },
  {
   "cell_type": "code",
   "execution_count": 13,
   "metadata": {},
   "outputs": [],
   "source": [
    "class CharRNN(nn.Module):\n",
    "    \n",
    "    def __init__(self, tokens, n_hidden=256, n_layers=2,\n",
    "                               drop_prob=0.5, lr=0.001):\n",
    "        super().__init__()\n",
    "        self.drop_prob = drop_prob\n",
    "        self.n_layers = n_layers\n",
    "        self.n_hidden = n_hidden  # From what I now understand: its number of neurons (like stuff) in hidden layer.\n",
    "        self.lr = lr\n",
    "        \n",
    "        # creating character dictionaries\n",
    "        self.chars = tokens  # token implies unique set of characters: its all one hot encoded vector types as seen earlier in notebook\n",
    "        self.int2char = dict(enumerate(self.chars))\n",
    "        self.char2int = {ch: ii for ii, ch in self.int2char.items()}\n",
    "        \n",
    "        ## TODO: define the layers of the model\n",
    "        self.lstm = nn.LSTM(input_size = len(self.chars), hidden_size=n_hidden, num_layers=n_layers,\n",
    "                            dropout=drop_prob, batch_first=True)\n",
    "        # Note: Not using self.  because self. can change within program, but the architecture should not change along\n",
    "        # batch_first True because that's how my shape of my input array is: first dimenions is that of the batch; that's why true \n",
    "        \n",
    "        #### Why not input of 5*1*1 as in the above schematic; in the form of: input of shape (seq_len, batch, input_size) #https://pytorch.org/docs/stable/generated/torch.nn.LSTM.html\n",
    "        #### May be the input is already given as 5*1*1 by the user: let's visit this later\n",
    "        #?? based on the input size and batch first: what does it mean?\n",
    "        \n",
    "        ## doing this because the dropout hyperparemter above is not for last layer; \n",
    "        self.dropout = nn.Dropout(drop_prob)  \n",
    "        \n",
    "        self.fc = nn.Linear(n_hidden, len(self.chars)) \n",
    "            \n",
    "        \n",
    "    def forward(self, x, hidden):\n",
    "        ''' Forward pass through the network. \n",
    "            These inputs are x, and the hidden/cell state `hidden`. '''\n",
    "                \n",
    "        # TODO: Get the outputs and the new hidden state from the lstm\n",
    "        \n",
    "        ## Please note: according to documentation use inputs = (seq_len, batch, input_size)\n",
    "        ## Note: hidden is (h0, c0), its a tuple already\n",
    "        \n",
    "        ## Pass through the 2 layer LSTM\n",
    "        lstm_output, hidden = self.lstm(x, hidden) \n",
    "        \n",
    "        # Dropout layer # https://pytorch.org/docs/stable/generated/torch.nn.Dropout.html \n",
    "        ## This seemed to be strage earlier that how can there be a dropout layer unlike a fc network: note out put of lstm is like an array of neurons: check the dimensions of ouput\n",
    "        out = self.dropout(lstm_output)\n",
    " \n",
    "        # Reshape the output coming out of LSTM : check if documentation says that shape of output is (seq_len, batch, hidden_size):\n",
    "        # out = out.view(-1, self.n_hidden) \n",
    "        out = out.contiguous().view(-1, self.n_hidden)   \n",
    "        ## according to be reshape is done so that vectors can be multiplied: \n",
    "        # i.e. last dimenion of the 'out' must be compatible for feeding into fc in terms of neurons\n",
    "\n",
    "        # Filly connected linear layer before feeding to softmax for class probabilities\n",
    "        out = self.fc(out)\n",
    "        ## Note a softmax must be performed, but we have it in training so not here\n",
    "        \n",
    "        return out, hidden \n",
    "        # The schematic above is misleading, it seems like 2 hidden states, one for each later must be stored\n",
    "        \n",
    "    \n",
    "    def init_hidden(self, batch_size):\n",
    "        ''' Initializes hidden state '''\n",
    "        # Create two new tensors with sizes n_layers x batch_size x n_hidden,\n",
    "        # initialized to zero, for hidden state and cell state of LSTM\n",
    "        weight = next(self.parameters()).data\n",
    "        \n",
    "        if (train_on_gpu):\n",
    "            hidden = (weight.new(self.n_layers, batch_size, self.n_hidden).zero_().cuda(),\n",
    "                  weight.new(self.n_layers, batch_size, self.n_hidden).zero_().cuda())\n",
    "        else:\n",
    "            hidden = (weight.new(self.n_layers, batch_size, self.n_hidden).zero_(),\n",
    "                      weight.new(self.n_layers, batch_size, self.n_hidden).zero_())\n",
    "            \n",
    "        return hidden\n",
    "        "
   ]
  },
  {
   "cell_type": "markdown",
   "metadata": {},
   "source": [
    "## Time to train\n",
    "\n",
    "The train function gives us the ability to set the number of epochs, the learning rate, and other parameters.\n",
    "\n",
    "Below we're using an Adam optimizer and cross entropy loss since we are looking at character class scores as output. We calculate the loss and perform backpropagation, as usual!\n",
    "\n",
    "A couple of details about training: \n",
    ">* Within the batch loop, we detach the hidden state from its history; this time setting it equal to a new *tuple* variable because an LSTM has a hidden state that is a tuple of the hidden and cell states.\n",
    "* We use [`clip_grad_norm_`](https://pytorch.org/docs/stable/_modules/torch/nn/utils/clip_grad.html) to help prevent exploding gradients."
   ]
  },
  {
   "cell_type": "code",
   "execution_count": 14,
   "metadata": {},
   "outputs": [],
   "source": [
    "def train(net, data, epochs=10, batch_size=10, seq_length=50, lr=0.001, clip=5, val_frac=0.1, print_every=10):\n",
    "    ''' Training a network \n",
    "    \n",
    "        Arguments\n",
    "        ---------\n",
    "        \n",
    "        net: CharRNN network\n",
    "        data: text data to train the network\n",
    "        epochs: Number of epochs to train\n",
    "        batch_size: Number of mini-sequences per mini-batch, aka batch size\n",
    "        seq_length: Number of character steps per mini-batch\n",
    "        lr: learning rate\n",
    "        clip: gradient clipping\n",
    "        val_frac: Fraction of data to hold out for validation\n",
    "        print_every: Number of steps for printing training and validation loss\n",
    "    \n",
    "    '''\n",
    "    net.train()\n",
    "    \n",
    "    # Optimizer and loss-functions defined (cross entropy loss as we need class-scores of each character) \n",
    "    opt = torch.optim.Adam(net.parameters(), lr=lr)\n",
    "    criterion = nn.CrossEntropyLoss()\n",
    "    \n",
    "    # create training and validation data\n",
    "    val_idx = int(len(data)*(1-val_frac))\n",
    "    data, val_data = data[:val_idx], data[val_idx:]\n",
    "    \n",
    "    if(train_on_gpu):\n",
    "        net.cuda()\n",
    "    \n",
    "    counter = 0\n",
    "    n_chars = len(net.chars)\n",
    "    \n",
    "    for e in range(epochs):\n",
    "        # initialize hidden state\n",
    "        h = net.init_hidden(batch_size) #The initialization is done before each epoch\n",
    "        \n",
    "        for x, y in get_batches(data, batch_size, seq_length):\n",
    "            counter += 1\n",
    "            \n",
    "            # One-hot encode our data and make them Torch tensors\n",
    "            x = one_hot_encode(x, n_chars)\n",
    "            inputs, targets = torch.from_numpy(x), torch.from_numpy(y)\n",
    "            \n",
    "            if(train_on_gpu):\n",
    "                inputs, targets = inputs.cuda(), targets.cuda()\n",
    "\n",
    "            # Creating new variables for the hidden state, otherwise\n",
    "            # we'd backprop through the entire training history\n",
    "            h = tuple([each.data for each in h])\n",
    "\n",
    "            # zero accumulated gradients\n",
    "            net.zero_grad()\n",
    "            \n",
    "            # get the output from the model\n",
    "            output, h = net(inputs, h)\n",
    "            \n",
    "            # calculate the loss and perform backprop\n",
    "            loss = criterion(output, targets.view(batch_size*seq_length))\n",
    "            loss.backward()\n",
    "            # `clip_grad_norm` helps prevent the exploding gradient problem in RNNs / LSTMs.\n",
    "            nn.utils.clip_grad_norm_(net.parameters(), clip)\n",
    "            opt.step()\n",
    "            \n",
    "            # loss stats\n",
    "            if counter % print_every == 0:\n",
    "                # Get validation loss\n",
    "                val_h = net.init_hidden(batch_size)\n",
    "                val_losses = []\n",
    "                net.eval()\n",
    "                for x, y in get_batches(val_data, batch_size, seq_length):\n",
    "                    # One-hot encode our data and make them Torch tensors\n",
    "                    x = one_hot_encode(x, n_chars)\n",
    "                    x, y = torch.from_numpy(x), torch.from_numpy(y)\n",
    "                    \n",
    "                    # Creating new variables for the hidden state, otherwise\n",
    "                    # we'd backprop through the entire training history\n",
    "                    val_h = tuple([each.data for each in val_h])\n",
    "                    \n",
    "                    inputs, targets = x, y\n",
    "                    if(train_on_gpu):\n",
    "                        inputs, targets = inputs.cuda(), targets.cuda()\n",
    "\n",
    "                    output, val_h = net(inputs, val_h)\n",
    "                    val_loss = criterion(output, targets.view(batch_size*seq_length))\n",
    "                \n",
    "                    val_losses.append(val_loss.item())\n",
    "                \n",
    "                net.train() # reset to train mode after iterationg through validation data\n",
    "                \n",
    "                print(\"Epoch: {}/{}...\".format(e+1, epochs),\n",
    "                      \"Step: {}...\".format(counter),\n",
    "                      \"Loss: {:.4f}...\".format(loss.item()),\n",
    "                      \"Val Loss: {:.4f}\".format(np.mean(val_losses)))"
   ]
  },
  {
   "cell_type": "markdown",
   "metadata": {},
   "source": [
    "## Instantiating the model\n",
    "\n",
    "Now we can actually train the network. First we'll create the network itself, with some given hyperparameters. Then, define the mini-batches sizes, and start training!"
   ]
  },
  {
   "cell_type": "code",
   "execution_count": 15,
   "metadata": {},
   "outputs": [
    {
     "name": "stdout",
     "output_type": "stream",
     "text": [
      "CharRNN(\n",
      "  (lstm): LSTM(83, 1024, num_layers=3, batch_first=True, dropout=0.5)\n",
      "  (dropout): Dropout(p=0.5)\n",
      "  (fc): Linear(in_features=1024, out_features=83, bias=True)\n",
      ")\n"
     ]
    }
   ],
   "source": [
    "## TODO: set you model hyperparameters\n",
    "# define and print the net\n",
    "n_hidden= 1024 ### ? Check this\n",
    "n_layers= 3  ## 2\n",
    "\n",
    "net = CharRNN(chars, n_hidden, n_layers)\n",
    "print(net)"
   ]
  },
  {
   "cell_type": "markdown",
   "metadata": {},
   "source": [
    "### Set your training hyperparameters!"
   ]
  },
  {
   "cell_type": "code",
   "execution_count": null,
   "metadata": {
    "scrolled": true
   },
   "outputs": [
    {
     "name": "stdout",
     "output_type": "stream",
     "text": [
      "Epoch: 1/20... Step: 10... Loss: 3.1735... Val Loss: 3.1511\n",
      "Epoch: 1/20... Step: 20... Loss: 3.5229... Val Loss: 3.1332\n",
      "Epoch: 1/20... Step: 30... Loss: 3.1406... Val Loss: 3.1222\n",
      "Epoch: 1/20... Step: 40... Loss: 3.1096... Val Loss: 3.1192\n",
      "Epoch: 1/20... Step: 50... Loss: 3.1442... Val Loss: 3.1189\n",
      "Epoch: 1/20... Step: 60... Loss: 3.1190... Val Loss: 3.1178\n",
      "Epoch: 1/20... Step: 70... Loss: 3.1110... Val Loss: 3.1189\n",
      "Epoch: 1/20... Step: 80... Loss: 3.1284... Val Loss: 3.1187\n",
      "Epoch: 1/20... Step: 90... Loss: 3.1315... Val Loss: 3.1178\n",
      "Epoch: 1/20... Step: 100... Loss: 3.1237... Val Loss: 3.1180\n",
      "Epoch: 1/20... Step: 110... Loss: 3.1262... Val Loss: 3.1177\n",
      "Epoch: 1/20... Step: 120... Loss: 3.1062... Val Loss: 3.1161\n",
      "Epoch: 1/20... Step: 130... Loss: 3.1261... Val Loss: 3.1144\n",
      "Epoch: 2/20... Step: 140... Loss: 3.1129... Val Loss: 3.1068\n",
      "Epoch: 2/20... Step: 150... Loss: 3.1002... Val Loss: 3.0690\n",
      "Epoch: 2/20... Step: 160... Loss: 3.0218... Val Loss: 2.9597\n",
      "Epoch: 2/20... Step: 170... Loss: 2.9240... Val Loss: 2.8804\n",
      "Epoch: 2/20... Step: 180... Loss: 2.8918... Val Loss: 2.8243\n",
      "Epoch: 2/20... Step: 190... Loss: 2.8652... Val Loss: 2.7814\n",
      "Epoch: 2/20... Step: 200... Loss: 2.8367... Val Loss: 2.7445\n",
      "Epoch: 2/20... Step: 210... Loss: 2.8006... Val Loss: 2.7274\n",
      "Epoch: 2/20... Step: 220... Loss: 2.7704... Val Loss: 2.6885\n",
      "Epoch: 2/20... Step: 230... Loss: 2.7350... Val Loss: 2.6692\n",
      "Epoch: 2/20... Step: 240... Loss: 2.6829... Val Loss: 2.6380\n",
      "Epoch: 2/20... Step: 250... Loss: 2.6370... Val Loss: 2.5960\n",
      "Epoch: 2/20... Step: 260... Loss: 2.5800... Val Loss: 2.5413\n",
      "Epoch: 2/20... Step: 270... Loss: 2.5487... Val Loss: 2.4672\n",
      "Epoch: 3/20... Step: 280... Loss: 2.4233... Val Loss: 2.3883\n",
      "Epoch: 3/20... Step: 290... Loss: 2.3496... Val Loss: 2.3319\n",
      "Epoch: 3/20... Step: 300... Loss: 2.3119... Val Loss: 2.2898\n",
      "Epoch: 3/20... Step: 310... Loss: 2.2659... Val Loss: 2.2460\n",
      "Epoch: 3/20... Step: 320... Loss: 2.2253... Val Loss: 2.2138\n",
      "Epoch: 3/20... Step: 330... Loss: 2.1690... Val Loss: 2.1842\n",
      "Epoch: 3/20... Step: 340... Loss: 2.1765... Val Loss: 2.1501\n",
      "Epoch: 3/20... Step: 350... Loss: 2.1603... Val Loss: 2.1205\n",
      "Epoch: 3/20... Step: 360... Loss: 2.0736... Val Loss: 2.0939\n",
      "Epoch: 3/20... Step: 370... Loss: 2.0823... Val Loss: 2.0623\n",
      "Epoch: 3/20... Step: 380... Loss: 2.0453... Val Loss: 2.0422\n",
      "Epoch: 3/20... Step: 390... Loss: 2.0110... Val Loss: 2.0337\n",
      "Epoch: 3/20... Step: 400... Loss: 1.9678... Val Loss: 1.9812\n",
      "Epoch: 3/20... Step: 410... Loss: 1.9783... Val Loss: 1.9643\n",
      "Epoch: 4/20... Step: 420... Loss: 1.9488... Val Loss: 1.9320\n",
      "Epoch: 4/20... Step: 430... Loss: 1.9313... Val Loss: 1.9065\n",
      "Epoch: 4/20... Step: 440... Loss: 1.9406... Val Loss: 1.9660\n",
      "Epoch: 4/20... Step: 450... Loss: 1.9748... Val Loss: 1.9227\n",
      "Epoch: 4/20... Step: 460... Loss: 1.9758... Val Loss: 1.8992\n",
      "Epoch: 4/20... Step: 470... Loss: 2.0272... Val Loss: 1.8827\n",
      "Epoch: 4/20... Step: 480... Loss: 2.0260... Val Loss: 1.8617\n",
      "Epoch: 4/20... Step: 490... Loss: 2.0584... Val Loss: 1.8429\n",
      "Epoch: 4/20... Step: 500... Loss: 2.0498... Val Loss: 1.8374\n",
      "Epoch: 4/20... Step: 510... Loss: 2.0167... Val Loss: 1.8240\n",
      "Epoch: 4/20... Step: 520... Loss: 2.0290... Val Loss: 1.8171\n",
      "Epoch: 4/20... Step: 530... Loss: 1.9676... Val Loss: 1.8113\n",
      "Epoch: 4/20... Step: 540... Loss: 1.9063... Val Loss: 1.8022\n",
      "Epoch: 4/20... Step: 550... Loss: 1.9217... Val Loss: 1.8017\n",
      "Epoch: 5/20... Step: 560... Loss: 1.7775... Val Loss: 1.7851\n",
      "Epoch: 5/20... Step: 570... Loss: 1.7716... Val Loss: 1.7659\n",
      "Epoch: 5/20... Step: 580... Loss: 1.7604... Val Loss: 1.7369\n",
      "Epoch: 5/20... Step: 590... Loss: 1.7481... Val Loss: 1.7237\n",
      "Epoch: 5/20... Step: 600... Loss: 1.7321... Val Loss: 1.7058\n",
      "Epoch: 5/20... Step: 610... Loss: 1.7098... Val Loss: 1.6923\n",
      "Epoch: 5/20... Step: 620... Loss: 1.7049... Val Loss: 1.6772\n",
      "Epoch: 5/20... Step: 630... Loss: 1.7171... Val Loss: 1.6656\n",
      "Epoch: 5/20... Step: 640... Loss: 1.6840... Val Loss: 1.6537\n",
      "Epoch: 5/20... Step: 650... Loss: 1.6741... Val Loss: 1.6453\n",
      "Epoch: 5/20... Step: 660... Loss: 1.6365... Val Loss: 1.6358\n",
      "Epoch: 5/20... Step: 670... Loss: 1.6584... Val Loss: 1.6214\n",
      "Epoch: 5/20... Step: 680... Loss: 1.6653... Val Loss: 1.6114\n",
      "Epoch: 5/20... Step: 690... Loss: 1.6341... Val Loss: 1.6071\n",
      "Epoch: 6/20... Step: 700... Loss: 1.5918... Val Loss: 1.5969\n",
      "Epoch: 6/20... Step: 710... Loss: 1.5635... Val Loss: 1.5774\n",
      "Epoch: 6/20... Step: 720... Loss: 1.5489... Val Loss: 1.5631\n",
      "Epoch: 6/20... Step: 730... Loss: 1.5493... Val Loss: 1.5542\n",
      "Epoch: 6/20... Step: 740... Loss: 1.5050... Val Loss: 1.5444\n",
      "Epoch: 6/20... Step: 750... Loss: 1.5019... Val Loss: 1.5301\n",
      "Epoch: 6/20... Step: 760... Loss: 1.5326... Val Loss: 1.5218\n",
      "Epoch: 6/20... Step: 770... Loss: 1.4970... Val Loss: 1.5126\n",
      "Epoch: 6/20... Step: 780... Loss: 1.4871... Val Loss: 1.5014\n",
      "Epoch: 6/20... Step: 790... Loss: 1.4605... Val Loss: 1.4906\n",
      "Epoch: 6/20... Step: 800... Loss: 1.4859... Val Loss: 1.4900\n",
      "Epoch: 6/20... Step: 810... Loss: 1.4535... Val Loss: 1.4786\n",
      "Epoch: 6/20... Step: 820... Loss: 1.4234... Val Loss: 1.4675\n",
      "Epoch: 6/20... Step: 830... Loss: 1.4577... Val Loss: 1.4580\n",
      "Epoch: 7/20... Step: 840... Loss: 1.4022... Val Loss: 1.4579\n",
      "Epoch: 7/20... Step: 850... Loss: 1.4264... Val Loss: 1.4482\n",
      "Epoch: 7/20... Step: 860... Loss: 1.3966... Val Loss: 1.4396\n",
      "Epoch: 7/20... Step: 870... Loss: 1.4100... Val Loss: 1.4354\n",
      "Epoch: 7/20... Step: 880... Loss: 1.4092... Val Loss: 1.4321\n",
      "Epoch: 7/20... Step: 890... Loss: 1.4045... Val Loss: 1.4231\n",
      "Epoch: 7/20... Step: 900... Loss: 1.3846... Val Loss: 1.4242\n",
      "Epoch: 7/20... Step: 910... Loss: 1.3489... Val Loss: 1.4150\n",
      "Epoch: 7/20... Step: 920... Loss: 1.3697... Val Loss: 1.4071\n",
      "Epoch: 7/20... Step: 930... Loss: 1.3630... Val Loss: 1.4000\n",
      "Epoch: 7/20... Step: 940... Loss: 1.3562... Val Loss: 1.4003\n",
      "Epoch: 7/20... Step: 950... Loss: 1.3784... Val Loss: 1.3933\n",
      "Epoch: 7/20... Step: 960... Loss: 1.3681... Val Loss: 1.3917\n",
      "Epoch: 7/20... Step: 970... Loss: 1.3672... Val Loss: 1.3860\n",
      "Epoch: 8/20... Step: 980... Loss: 1.3358... Val Loss: 1.3797\n",
      "Epoch: 8/20... Step: 990... Loss: 1.3349... Val Loss: 1.3746\n",
      "Epoch: 8/20... Step: 1000... Loss: 1.3419... Val Loss: 1.3694\n",
      "Epoch: 8/20... Step: 1010... Loss: 1.3556... Val Loss: 1.3719\n",
      "Epoch: 8/20... Step: 1020... Loss: 1.3353... Val Loss: 1.3684\n",
      "Epoch: 8/20... Step: 1030... Loss: 1.3183... Val Loss: 1.3589\n",
      "Epoch: 8/20... Step: 1040... Loss: 1.3254... Val Loss: 1.3621\n",
      "Epoch: 8/20... Step: 1050... Loss: 1.3003... Val Loss: 1.3575\n",
      "Epoch: 8/20... Step: 1060... Loss: 1.3035... Val Loss: 1.3546\n",
      "Epoch: 8/20... Step: 1070... Loss: 1.3010... Val Loss: 1.3489\n",
      "Epoch: 8/20... Step: 1080... Loss: 1.2961... Val Loss: 1.3481\n",
      "Epoch: 8/20... Step: 1090... Loss: 1.2921... Val Loss: 1.3436\n",
      "Epoch: 8/20... Step: 1100... Loss: 1.2730... Val Loss: 1.3439\n",
      "Epoch: 8/20... Step: 1110... Loss: 1.2814... Val Loss: 1.3360\n",
      "Epoch: 9/20... Step: 1120... Loss: 1.2871... Val Loss: 1.3324\n",
      "Epoch: 9/20... Step: 1130... Loss: 1.2860... Val Loss: 1.3327\n",
      "Epoch: 9/20... Step: 1140... Loss: 1.2887... Val Loss: 1.3259\n",
      "Epoch: 9/20... Step: 1150... Loss: 1.2942... Val Loss: 1.3267\n",
      "Epoch: 9/20... Step: 1160... Loss: 1.2585... Val Loss: 1.3252\n",
      "Epoch: 9/20... Step: 1170... Loss: 1.2758... Val Loss: 1.3204\n",
      "Epoch: 9/20... Step: 1180... Loss: 1.2549... Val Loss: 1.3248\n",
      "Epoch: 9/20... Step: 1190... Loss: 1.2877... Val Loss: 1.3230\n",
      "Epoch: 9/20... Step: 1200... Loss: 1.2431... Val Loss: 1.3155\n",
      "Epoch: 9/20... Step: 1210... Loss: 1.2410... Val Loss: 1.3170\n",
      "Epoch: 9/20... Step: 1220... Loss: 1.2506... Val Loss: 1.3190\n",
      "Epoch: 9/20... Step: 1230... Loss: 1.2252... Val Loss: 1.3132\n",
      "Epoch: 9/20... Step: 1240... Loss: 1.2332... Val Loss: 1.3097\n",
      "Epoch: 9/20... Step: 1250... Loss: 1.2440... Val Loss: 1.3023\n",
      "Epoch: 10/20... Step: 1260... Loss: 1.2553... Val Loss: 1.3029\n",
      "Epoch: 10/20... Step: 1270... Loss: 1.2462... Val Loss: 1.3014\n",
      "Epoch: 10/20... Step: 1280... Loss: 1.2538... Val Loss: 1.2940\n",
      "Epoch: 10/20... Step: 1290... Loss: 1.2419... Val Loss: 1.2995\n",
      "Epoch: 10/20... Step: 1300... Loss: 1.2346... Val Loss: 1.2982\n",
      "Epoch: 10/20... Step: 1310... Loss: 1.2382... Val Loss: 1.2929\n",
      "Epoch: 10/20... Step: 1320... Loss: 1.2124... Val Loss: 1.2932\n",
      "Epoch: 10/20... Step: 1330... Loss: 1.2137... Val Loss: 1.2923\n",
      "Epoch: 10/20... Step: 1340... Loss: 1.1983... Val Loss: 1.2947\n",
      "Epoch: 10/20... Step: 1350... Loss: 1.1953... Val Loss: 1.2908\n",
      "Epoch: 10/20... Step: 1360... Loss: 1.2097... Val Loss: 1.2987\n",
      "Epoch: 10/20... Step: 1370... Loss: 1.2008... Val Loss: 1.2909\n",
      "Epoch: 10/20... Step: 1380... Loss: 1.2303... Val Loss: 1.2859\n",
      "Epoch: 10/20... Step: 1390... Loss: 1.2534... Val Loss: 1.2810\n",
      "Epoch: 11/20... Step: 1400... Loss: 1.2327... Val Loss: 1.2803\n",
      "Epoch: 11/20... Step: 1410... Loss: 1.2437... Val Loss: 1.2836\n",
      "Epoch: 11/20... Step: 1420... Loss: 1.2468... Val Loss: 1.2772\n",
      "Epoch: 11/20... Step: 1430... Loss: 1.2147... Val Loss: 1.2796\n",
      "Epoch: 11/20... Step: 1440... Loss: 1.2245... Val Loss: 1.2783\n",
      "Epoch: 11/20... Step: 1450... Loss: 1.1644... Val Loss: 1.2762\n",
      "Epoch: 11/20... Step: 1460... Loss: 1.1964... Val Loss: 1.2748\n",
      "Epoch: 11/20... Step: 1470... Loss: 1.1706... Val Loss: 1.2759\n",
      "Epoch: 11/20... Step: 1480... Loss: 1.1918... Val Loss: 1.2796\n",
      "Epoch: 11/20... Step: 1490... Loss: 1.1891... Val Loss: 1.2784\n",
      "Epoch: 11/20... Step: 1500... Loss: 1.1679... Val Loss: 1.2744\n",
      "Epoch: 11/20... Step: 1510... Loss: 1.1573... Val Loss: 1.2776\n",
      "Epoch: 11/20... Step: 1520... Loss: 1.1903... Val Loss: 1.2711\n",
      "Epoch: 12/20... Step: 1530... Loss: 1.2438... Val Loss: 1.2622\n",
      "Epoch: 12/20... Step: 1540... Loss: 1.1878... Val Loss: 1.2636\n",
      "Epoch: 12/20... Step: 1550... Loss: 1.1865... Val Loss: 1.2661\n",
      "Epoch: 12/20... Step: 1560... Loss: 1.2063... Val Loss: 1.2579\n",
      "Epoch: 12/20... Step: 1570... Loss: 1.1554... Val Loss: 1.2624\n",
      "Epoch: 12/20... Step: 1580... Loss: 1.1450... Val Loss: 1.2672\n",
      "Epoch: 12/20... Step: 1590... Loss: 1.1313... Val Loss: 1.2653\n",
      "Epoch: 12/20... Step: 1600... Loss: 1.1475... Val Loss: 1.2617\n",
      "Epoch: 12/20... Step: 1610... Loss: 1.1539... Val Loss: 1.2634\n",
      "Epoch: 12/20... Step: 1620... Loss: 1.1517... Val Loss: 1.2610\n",
      "Epoch: 12/20... Step: 1630... Loss: 1.1714... Val Loss: 1.2613\n",
      "Epoch: 12/20... Step: 1640... Loss: 1.1547... Val Loss: 1.2665\n",
      "Epoch: 12/20... Step: 1650... Loss: 1.1312... Val Loss: 1.2691\n",
      "Epoch: 12/20... Step: 1660... Loss: 1.1828... Val Loss: 1.2620\n",
      "Epoch: 13/20... Step: 1670... Loss: 1.1570... Val Loss: 1.2578\n",
      "Epoch: 13/20... Step: 1680... Loss: 1.1613... Val Loss: 1.2574\n",
      "Epoch: 13/20... Step: 1690... Loss: 1.1484... Val Loss: 1.2539\n",
      "Epoch: 13/20... Step: 1700... Loss: 1.1345... Val Loss: 1.2495\n",
      "Epoch: 13/20... Step: 1710... Loss: 1.1297... Val Loss: 1.2527\n",
      "Epoch: 13/20... Step: 1720... Loss: 1.1322... Val Loss: 1.2515\n",
      "Epoch: 13/20... Step: 1730... Loss: 1.1581... Val Loss: 1.2561\n",
      "Epoch: 13/20... Step: 1740... Loss: 1.1305... Val Loss: 1.2520\n",
      "Epoch: 13/20... Step: 1750... Loss: 1.1142... Val Loss: 1.2552\n",
      "Epoch: 13/20... Step: 1760... Loss: 1.1256... Val Loss: 1.2503\n",
      "Epoch: 13/20... Step: 1770... Loss: 1.1454... Val Loss: 1.2503\n",
      "Epoch: 13/20... Step: 1780... Loss: 1.1302... Val Loss: 1.2513\n",
      "Epoch: 13/20... Step: 1790... Loss: 1.1205... Val Loss: 1.2575\n",
      "Epoch: 13/20... Step: 1800... Loss: 1.1465... Val Loss: 1.2517\n",
      "Epoch: 14/20... Step: 1810... Loss: 1.1419... Val Loss: 1.2487\n",
      "Epoch: 14/20... Step: 1820... Loss: 1.1242... Val Loss: 1.2461\n",
      "Epoch: 14/20... Step: 1830... Loss: 1.1556... Val Loss: 1.2443\n",
      "Epoch: 14/20... Step: 1840... Loss: 1.1041... Val Loss: 1.2450\n",
      "Epoch: 14/20... Step: 1850... Loss: 1.0853... Val Loss: 1.2443\n",
      "Epoch: 14/20... Step: 1860... Loss: 1.1300... Val Loss: 1.2426\n",
      "Epoch: 14/20... Step: 1870... Loss: 1.1447... Val Loss: 1.2468\n",
      "Epoch: 14/20... Step: 1880... Loss: 1.1363... Val Loss: 1.2463\n",
      "Epoch: 14/20... Step: 1890... Loss: 1.1498... Val Loss: 1.2467\n",
      "Epoch: 14/20... Step: 1900... Loss: 1.1289... Val Loss: 1.2440\n",
      "Epoch: 14/20... Step: 1910... Loss: 1.1171... Val Loss: 1.2431\n",
      "Epoch: 14/20... Step: 1920... Loss: 1.1200... Val Loss: 1.2438\n",
      "Epoch: 14/20... Step: 1930... Loss: 1.0933... Val Loss: 1.2517\n",
      "Epoch: 14/20... Step: 1940... Loss: 1.1328... Val Loss: 1.2438\n",
      "Epoch: 15/20... Step: 1950... Loss: 1.1153... Val Loss: 1.2448\n",
      "Epoch: 15/20... Step: 1960... Loss: 1.1176... Val Loss: 1.2396\n",
      "Epoch: 15/20... Step: 1970... Loss: 1.1126... Val Loss: 1.2399\n",
      "Epoch: 15/20... Step: 1980... Loss: 1.1051... Val Loss: 1.2378\n",
      "Epoch: 15/20... Step: 1990... Loss: 1.0984... Val Loss: 1.2391\n",
      "Epoch: 15/20... Step: 2000... Loss: 1.0964... Val Loss: 1.2378\n",
      "Epoch: 15/20... Step: 2010... Loss: 1.1091... Val Loss: 1.2424\n",
      "Epoch: 15/20... Step: 2020... Loss: 1.1122... Val Loss: 1.2427\n",
      "Epoch: 15/20... Step: 2030... Loss: 1.0933... Val Loss: 1.2426\n",
      "Epoch: 15/20... Step: 2040... Loss: 1.0997... Val Loss: 1.2395\n",
      "Epoch: 15/20... Step: 2050... Loss: 1.0945... Val Loss: 1.2385\n",
      "Epoch: 15/20... Step: 2060... Loss: 1.1001... Val Loss: 1.2394\n",
      "Epoch: 15/20... Step: 2070... Loss: 1.1105... Val Loss: 1.2443\n",
      "Epoch: 15/20... Step: 2080... Loss: 1.1105... Val Loss: 1.2395\n",
      "Epoch: 16/20... Step: 2090... Loss: 1.1121... Val Loss: 1.2421\n",
      "Epoch: 16/20... Step: 2100... Loss: 1.1016... Val Loss: 1.2410\n",
      "Epoch: 16/20... Step: 2110... Loss: 1.0950... Val Loss: 1.2362\n",
      "Epoch: 16/20... Step: 2120... Loss: 1.0982... Val Loss: 1.2355\n",
      "Epoch: 16/20... Step: 2130... Loss: 1.0718... Val Loss: 1.2354\n",
      "Epoch: 16/20... Step: 2140... Loss: 1.1007... Val Loss: 1.2365\n",
      "Epoch: 16/20... Step: 2150... Loss: 1.1030... Val Loss: 1.2392\n",
      "Epoch: 16/20... Step: 2160... Loss: 1.0873... Val Loss: 1.2432\n",
      "Epoch: 16/20... Step: 2170... Loss: 1.0871... Val Loss: 1.2436\n",
      "Epoch: 16/20... Step: 2180... Loss: 1.0907... Val Loss: 1.2372\n",
      "Epoch: 16/20... Step: 2190... Loss: 1.1046... Val Loss: 1.2355\n",
      "Epoch: 16/20... Step: 2200... Loss: 1.0842... Val Loss: 1.2365\n",
      "Epoch: 16/20... Step: 2210... Loss: 1.0535... Val Loss: 1.2410\n",
      "Epoch: 16/20... Step: 2220... Loss: 1.0858... Val Loss: 1.2356\n",
      "Epoch: 17/20... Step: 2230... Loss: 1.0857... Val Loss: 1.2306\n",
      "Epoch: 17/20... Step: 2240... Loss: 1.0785... Val Loss: 1.2311\n",
      "Epoch: 17/20... Step: 2250... Loss: 1.0692... Val Loss: 1.2297\n",
      "Epoch: 17/20... Step: 2260... Loss: 1.0730... Val Loss: 1.2302\n",
      "Epoch: 17/20... Step: 2270... Loss: 1.0834... Val Loss: 1.2317\n",
      "Epoch: 17/20... Step: 2280... Loss: 1.0867... Val Loss: 1.2310\n",
      "Epoch: 17/20... Step: 2290... Loss: 1.0978... Val Loss: 1.2341\n",
      "Epoch: 17/20... Step: 2300... Loss: 1.0649... Val Loss: 1.2341\n",
      "Epoch: 17/20... Step: 2310... Loss: 1.0801... Val Loss: 1.2356\n",
      "Epoch: 17/20... Step: 2320... Loss: 1.0685... Val Loss: 1.2303\n",
      "Epoch: 17/20... Step: 2330... Loss: 1.0667... Val Loss: 1.2328\n",
      "Epoch: 17/20... Step: 2340... Loss: 1.0795... Val Loss: 1.2340\n",
      "Epoch: 17/20... Step: 2350... Loss: 1.0728... Val Loss: 1.2319\n",
      "Epoch: 17/20... Step: 2360... Loss: 1.0917... Val Loss: 1.2272\n"
     ]
    }
   ],
   "source": [
    "batch_size = 128\n",
    "seq_length = 100  ## This is not too large, but good as it gives enough 'context' to learn from: Note we are using LSTM, not RNN\n",
    "n_epochs =  20 # start small if you are just testing initial behavior\n",
    "\n",
    "# train the model\n",
    "train(net, encoded, epochs=n_epochs, batch_size=batch_size, seq_length=seq_length, lr=0.001, print_every=10)"
   ]
  },
  {
   "cell_type": "markdown",
   "metadata": {},
   "source": [
    "## Getting the best model\n",
    "\n",
    "To set your hyperparameters to get the best performance, you'll want to watch the training and validation losses. If your training loss is much lower than the validation loss, you're overfitting. Increase regularization (more dropout) or use a smaller network. If the training and validation losses are close, you're underfitting so you can increase the size of the network."
   ]
  },
  {
   "cell_type": "markdown",
   "metadata": {},
   "source": [
    "## Hyperparameters\n",
    "\n",
    "Here are the hyperparameters for the network.\n",
    "\n",
    "In defining the model:\n",
    "* `n_hidden` - The number of units in the hidden layers.\n",
    "* `n_layers` - Number of hidden LSTM layers to use.\n",
    "\n",
    "We assume that dropout probability and learning rate will be kept at the default, in this example.\n",
    "\n",
    "And in training:\n",
    "* `batch_size` - Number of sequences running through the network in one pass.\n",
    "* `seq_length` - Number of characters in the sequence the network is trained on. Larger is better typically, the network will learn more long range dependencies. But it takes longer to train. 100 is typically a good number here.\n",
    "* `lr` - Learning rate for training\n",
    "\n",
    "Here's some good advice from Andrej Karpathy on training the network. I'm going to copy it in here for your benefit, but also link to [where it originally came from](https://github.com/karpathy/char-rnn#tips-and-tricks).\n",
    "\n",
    "> ## Tips and Tricks\n",
    "\n",
    ">### Monitoring Validation Loss vs. Training Loss\n",
    ">If you're somewhat new to Machine Learning or Neural Networks it can take a bit of expertise to get good models. The most important quantity to keep track of is the difference between your training loss (printed during training) and the validation loss (printed once in a while when the RNN is run on the validation data (by default every 1000 iterations)). In particular:\n",
    "\n",
    "> - If your training loss is much lower than validation loss then this means the network might be **overfitting**. Solutions to this are to decrease your network size, or to increase dropout. For example you could try dropout of 0.5 and so on.\n",
    "> - If your training/validation loss are about equal then your model is **underfitting**. Increase the size of your model (either number of layers or the raw number of neurons per layer)\n",
    "\n",
    "> ### Approximate number of parameters\n",
    "\n",
    "> The two most important parameters that control the model are `n_hidden` and `n_layers`. I would advise that you always use `n_layers` of either 2/3. The `n_hidden` can be adjusted based on how much data you have. The two important quantities to keep track of here are:\n",
    "\n",
    "> - The number of parameters in your model. This is printed when you start training.\n",
    "> - The size of your dataset. 1MB file is approximately 1 million characters.\n",
    "\n",
    ">These two should be about the same order of magnitude. It's a little tricky to tell. Here are some examples:\n",
    "\n",
    "> - I have a 100MB dataset and I'm using the default parameter settings (which currently print 150K parameters). My data size is significantly larger (100 mil >> 0.15 mil), so I expect to heavily underfit. I am thinking I can comfortably afford to make `n_hidden` larger.\n",
    "> - I have a 10MB dataset and running a 10 million parameter model. I'm slightly nervous and I'm carefully monitoring my validation loss. If it's larger than my training loss then I may want to try to increase dropout a bit and see if that helps the validation loss.\n",
    "\n",
    "> ### Best models strategy\n",
    "\n",
    ">The winning strategy to obtaining very good models (if you have the compute time) is to always err on making the network larger (as large as you're willing to wait for it to compute) and then try different dropout values (between 0,1). Whatever model has the best validation performance (the loss, written in the checkpoint filename, low is good) is the one you should use in the end.\n",
    "\n",
    ">It is very common in deep learning to run many different models with many different hyperparameter settings, and in the end take whatever checkpoint gave the best validation performance.\n",
    "\n",
    ">By the way, the size of your training and validation splits are also parameters. Make sure you have a decent amount of data in your validation set or otherwise the validation performance will be noisy and not very informative."
   ]
  },
  {
   "cell_type": "markdown",
   "metadata": {},
   "source": [
    "## Checkpoint\n",
    "\n",
    "After training, we'll save the model so we can load it again later if we need too. Here I'm saving the parameters needed to create the same architecture, the hidden layer hyperparameters and the text characters."
   ]
  },
  {
   "cell_type": "code",
   "execution_count": 28,
   "metadata": {},
   "outputs": [],
   "source": [
    "# change the name, for saving multiple files\n",
    "model_name = 'rnn_char_epoch20_default_and_nhidden=1024_and_nlayers=3_equated_params.net'\n",
    "\n",
    "checkpoint = {'n_hidden': net.n_hidden,\n",
    "              'n_layers': net.n_layers,\n",
    "              'state_dict': net.state_dict(),\n",
    "              'tokens': net.chars}\n",
    "\n",
    "with open(model_name, 'wb') as f:\n",
    "    torch.save(checkpoint, f)"
   ]
  },
  {
   "cell_type": "markdown",
   "metadata": {},
   "source": [
    "---\n",
    "## Making Predictions\n",
    "\n",
    "Now that the model is trained, we'll want to sample from it and make predictions about next characters! To sample, we pass in a character and have the network predict the next character. Then we take that character, pass it back in, and get another predicted character. Just keep doing this and you'll generate a bunch of text!\n",
    "\n",
    "### A note on the `predict`  function\n",
    "\n",
    "The output of our RNN is from a fully-connected layer and it outputs a **distribution of next-character scores**.\n",
    "\n",
    "> To actually get the next character, we apply a softmax function, which gives us a *probability* distribution that we can then sample to predict the next character.\n",
    "\n",
    "### Top K sampling\n",
    "\n",
    "Our predictions come from a categorical probability distribution over all the possible characters. We can make the sample text and make it more reasonable to handle (with less variables) by only considering some $K$ most probable characters. This will prevent the network from giving us completely absurd characters while allowing it to introduce some noise and randomness into the sampled text. Read more about [topk, here](https://pytorch.org/docs/stable/torch.html#torch.topk).\n"
   ]
  },
  {
   "cell_type": "code",
   "execution_count": 29,
   "metadata": {},
   "outputs": [],
   "source": [
    "def predict(net, char, h=None, top_k=None):\n",
    "        ''' Given a character, predict the next character.\n",
    "            Returns the predicted character and the hidden state.\n",
    "        '''\n",
    "        \n",
    "        # tensor inputs\n",
    "        x = np.array([[net.char2int[char]]])\n",
    "        x = one_hot_encode(x, len(net.chars))\n",
    "        inputs = torch.from_numpy(x)\n",
    "        \n",
    "        if(train_on_gpu):\n",
    "            inputs = inputs.cuda()\n",
    "        \n",
    "        # detach hidden state from history\n",
    "        h = tuple([each.data for each in h])\n",
    "        # get the output of the model\n",
    "        out, h = net(inputs, h)\n",
    "\n",
    "        # get the character probabilities\n",
    "        p = F.softmax(out, dim=1).data\n",
    "        if(train_on_gpu):\n",
    "            p = p.cpu() # move to cpu\n",
    "        \n",
    "        # get top characters\n",
    "        if top_k is None:\n",
    "            top_ch = np.arange(len(net.chars))\n",
    "        else:\n",
    "            p, top_ch = p.topk(top_k)\n",
    "            top_ch = top_ch.numpy().squeeze()\n",
    "        \n",
    "        # select the likely next character with some element of randomness\n",
    "        p = p.numpy().squeeze()\n",
    "        char = np.random.choice(top_ch, p=p/p.sum())\n",
    "        \n",
    "        # return the encoded value of the predicted char and the hidden state\n",
    "        return net.int2char[char], h"
   ]
  },
  {
   "cell_type": "markdown",
   "metadata": {},
   "source": [
    "### Priming and generating text \n",
    "\n",
    "Typically you'll want to prime the network so you can build up a hidden state. Otherwise the network will start out generating characters at random. In general the first bunch of characters will be a little rough since it hasn't built up a long history of characters to predict from."
   ]
  },
  {
   "cell_type": "code",
   "execution_count": 30,
   "metadata": {},
   "outputs": [],
   "source": [
    "def sample(net, size, prime='The', top_k=None):\n",
    "        \n",
    "    if(train_on_gpu):\n",
    "        net.cuda()\n",
    "    else:\n",
    "        net.cpu()\n",
    "    \n",
    "    net.eval() # eval mode\n",
    "    \n",
    "    # First off, run through the prime characters\n",
    "    chars = [ch for ch in prime]\n",
    "    h = net.init_hidden(1)\n",
    "    for ch in prime:\n",
    "        char, h = predict(net, ch, h, top_k=top_k)\n",
    "\n",
    "    chars.append(char)\n",
    "    \n",
    "    # Now pass in the previous character and get a new one\n",
    "    for ii in range(size):\n",
    "        char, h = predict(net, chars[-1], h, top_k=top_k)\n",
    "        chars.append(char)\n",
    "\n",
    "    return ''.join(chars)"
   ]
  },
  {
   "cell_type": "code",
   "execution_count": 31,
   "metadata": {},
   "outputs": [
    {
     "name": "stdout",
     "output_type": "stream",
     "text": [
      "Anna had answered himself, because the principal performance, that she was afraid of thought. The mare was so greatle to her.\n",
      "\n",
      "\"You will get out of it! I don't like to see you,\" said Varenka was simply and the mare had been saying. How can you know how to be sent for?\"\n",
      "\n",
      "\"I should have a chain. What's the same thing? Anna did not want anything about it!\" said Vronsky assented.\n",
      "\n",
      "\"I was a softened carriage, and I don't know what I wanted to see\n",
      "you to stand, to\n",
      "be sure,\" Anna hoped to her in her eyes, and at that meeting so many words, and his sufferings were that they was\n",
      "completely felt angry, and how there is no concervet of them as though all his breaths, his success which was a minute. All at once he went to the peasant would have telling her a stream of his\n",
      "brother, and that the princess sat down, and an invitating the conversation that was to take the most character in hearing the crown to the mental\n",
      "eyes where\n",
      "they had been doing\n",
      "it to her, but he started away with the\n",
      "sofa of weakness\n"
     ]
    }
   ],
   "source": [
    "print(sample(net, 1000, prime='Anna', top_k=5))"
   ]
  },
  {
   "cell_type": "markdown",
   "metadata": {},
   "source": [
    "## Loading a checkpoint"
   ]
  },
  {
   "cell_type": "code",
   "execution_count": 32,
   "metadata": {},
   "outputs": [],
   "source": [
    "# Here we have loaded in a model that trained over 20 epochs `rnn_20_epoch.net`\n",
    "with open('rnn_char_epoch11_default_and_nhidden=1536_and_nlayers=3.net', 'rb') as f:\n",
    "    checkpoint = torch.load(f)\n",
    "    \n",
    "loaded = CharRNN(checkpoint['tokens'], n_hidden=checkpoint['n_hidden'], n_layers=checkpoint['n_layers'])\n",
    "loaded.load_state_dict(checkpoint['state_dict'])"
   ]
  },
  {
   "cell_type": "code",
   "execution_count": 33,
   "metadata": {},
   "outputs": [
    {
     "name": "stdout",
     "output_type": "stream",
     "text": [
      "And Levin said at the dogs and the\n",
      "lower face, and at the same time she\n",
      "was almost clienity.\n",
      "\n",
      "Stepan Arkadyevitch was so tired.\n",
      "\n",
      "\"I haven't asked for her with the meaning on this pretty one than I could not like this,\n",
      "if I don't like the\n",
      "children are the contrary, there's no composed.\"\"\n",
      "\n",
      "\"I was going to bad me with missake for her.\"\n",
      "\n",
      "\"I have nothing\n",
      "else, it was still and assumed.\" And try in\n",
      "the leather whom he changed a man in the mare's and the chalms of stuck\n",
      "and annoyance.\n",
      "\n",
      "After a man with the midwle room in the heart she was asked, after having allowed to get the real people always, was not a man in a long while with him and her soul, she had a dinner into softer, and at the meaning of her lips as he could hear.\n",
      "\n",
      "\"Well, what's the same to this?\"\n",
      "\n",
      "\"Yes, to think you told you see you, that you make my some tall, and I can do. If you know...\"\n",
      " \"Well, who is there all real feeling for him too...\"\n",
      "\n",
      "\"You've been telling you, if you were the fiest way of action.\n",
      "Yes, it's a sort of legs, indeed, as you were.\"\n",
      "\n",
      "\"What is it, to speak of it!\" she said again to her with a fashion of thought.\n",
      "\n",
      "\"I want finish a fail in the same serious pare that were an honest, and talk of them, will alone, then I admis on the\n",
      "servon. He was not askamed to go and let us ask you, and the doctor answered, if there's such a stage in his study and the same servant, and the misery\n",
      "that's always better,\" he said standing she admirant with tears, and\n",
      "always struck him, and was\n",
      "sitting away from the sound of his her hand, and was giving the strainer, training any rans. He could not be drinking, a child. \"Why did you know, that I shall be doing you to be a delicate tenderness. I should his suffering if you've not to see me and the study of the soul. I saw it to him.\"\n",
      "\n",
      "\"I want to see me,\" she said, as his face showed home by something there, she was sitting in her eyes.\n",
      "\n",
      "\"To me that he don't understand a man was alone, and this is a stall after and that is a lady who want as it is,\" she who had come\n",
      "out of the so\n"
     ]
    }
   ],
   "source": [
    "# Sample using a loaded model\n",
    "print(sample(loaded, 2000, top_k=5, prime=\"And Levin said\"))"
   ]
  },
  {
   "cell_type": "code",
   "execution_count": 23,
   "metadata": {},
   "outputs": [
    {
     "name": "stdout",
     "output_type": "stream",
     "text": [
      "And Levin said an agreeable conderceed in a step of her legs with which she saw that they, who was standing to see\n",
      "him without the\n",
      "fershion, he hoped, the same tears to his fince.\n",
      "\n",
      "\"You walk to much, I dances together in spoke, and I should be\n",
      "suffering, I can't story my father as it would be simply as a familiar, but thinking of\n",
      "the summor with a sense\n",
      "of her. Then, to stand it and such a strange to send him to have such anyone. I am so cannot be that it...\" said Vronsky.\n",
      "\n",
      "Stepan Arkadyevitch was all about her and at any manner, and was not in the familiar\n",
      "wife. The\n",
      "princess how he was not a sort of steps. All the\n",
      "sorts of the calment and all of the chief\n",
      "supper, which she had supple to her.\n",
      "\n",
      "\"I don't know it without all.\"\n",
      "\n",
      "\"No, I didn't know that it is that I have said it with him; but I can't go away, they had's become sure to be done.\"\n",
      "\n",
      "The princess he thought of her,\n",
      "and his faith went\n",
      "up his sense of the clitche of a\n",
      "story of the party.\n",
      "\n",
      "\"Yes, it's some man in spite of the crests to the painture on an hands without me and\n",
      "many tears, when he\n",
      "could not still they should not\n",
      "trive, but, this world, to the man, they's not the friend, and I've not an intrance in the service. I have been struck off, and I can't stup in\n",
      "such a contemptuous and to spond of, which has to be\n",
      "answered, but it was to say to him, and what would there should be such an\n",
      "one\n",
      "thing.\"\n",
      "\n",
      "\"Well, and such a point we made a child,\" he was said to him.\n",
      "\n",
      "\"Well, how sholl you mean to disagreeable?\"\n",
      "\n",
      "\"I am simply to be the peasants.\"\n",
      "\n",
      "\"Yes, your hands to me, and I shall say, that I have too\n",
      "done. And why do I can go on, then you say,\n",
      "and so tho child are anster,\" he said, lifting his hand, tendered the semver, she saw the subject trounded into\n",
      "the room. He finished heard to her, and the princess had been and\n",
      "considered an actual for a certain time. She crimsed and saw\n",
      "their pleasure, so word heard\n",
      "it straight over and and her\n",
      "friend.\n",
      "\n",
      "\"I centraluge the starrs after her is something.\"\n",
      "\n",
      "\"Well, that's in the\n",
      "same arming\n"
     ]
    }
   ],
   "source": [
    "# Sample using a loaded model\n",
    "print(sample(loaded, 2000, top_k=5, prime=\"And Levin said\"))"
   ]
  },
  {
   "cell_type": "code",
   "execution_count": null,
   "metadata": {},
   "outputs": [],
   "source": [
    "## Does this mean that just give the first charer set as input and leave it, does error not get accumilated?"
   ]
  }
 ],
 "metadata": {
  "kernelspec": {
   "display_name": "Python 3",
   "language": "python",
   "name": "python3"
  },
  "language_info": {
   "codemirror_mode": {
    "name": "ipython",
    "version": 3
   },
   "file_extension": ".py",
   "mimetype": "text/x-python",
   "name": "python",
   "nbconvert_exporter": "python",
   "pygments_lexer": "ipython3",
   "version": "3.6.3"
  }
 },
 "nbformat": 4,
 "nbformat_minor": 2
}
